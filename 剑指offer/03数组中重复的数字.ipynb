{
 "cells": [
  {
   "cell_type": "code",
   "execution_count": null,
   "metadata": {},
   "outputs": [],
   "source": [
    "'''\n",
    "剑指 Offer 03. 数组中重复的数字\n",
    "找出数组中重复的数字。\n",
    "\n",
    "在一个长度为 n 的数组 nums 里的所有数字都在 0～n-1 的范围内。\n",
    "数组中某些数字是重复的，但不知道有几个数字重复了，也不知道每个数字重复了几次。请找出数组中任意一个重复的数字。\n",
    "\n",
    "示例 1：\n",
    "输入：\n",
    "[2, 3, 1, 0, 2, 5, 3]\n",
    "输出：2 或 3 \n",
    "'''"
   ]
  },
  {
   "cell_type": "code",
   "execution_count": 3,
   "metadata": {},
   "outputs": [],
   "source": [
    "'''\n",
    "方法1：直接使用哈希表字典dict结构 时间O(n)，空间O（n）\n",
    "'''\n",
    "from typing import List\n",
    "\n",
    "class Solution:\n",
    "    def findRepeatNumber(self, nums: List[int]) -> int:\n",
    "        cur_dict= {}\n",
    "        for num in nums:\n",
    "            if num in cur_dict :\n",
    "                return num\n",
    "            else :\n",
    "                cur_dict[num] = 1\n",
    "        return None"
   ]
  },
  {
   "cell_type": "code",
   "execution_count": null,
   "metadata": {},
   "outputs": [],
   "source": [
    "'''\n",
    "方法2：数组先排序，然后看相邻元素是否有相同的，有直接return。 时间O(nlogn)相对速度稳定，空间O(1)\n",
    "'''\n",
    "from typing import List\n",
    "\n",
    "class Solution:\n",
    "    def findRepeatNumber(self, nums: List[int]) -> int:\n",
    "        res = None\n",
    "        nums.sort()\n",
    "        pre = nums[0]\n",
    "        n = len(nums)\n",
    "        for index in range(1, n):\n",
    "            if pre == nums[index]:\n",
    "                res = pre\n",
    "                break;\n",
    "            pre = nums[index]\n",
    "        return res"
   ]
  }
 ],
 "metadata": {
  "kernelspec": {
   "display_name": "Python 3",
   "language": "python",
   "name": "python3"
  },
  "language_info": {
   "codemirror_mode": {
    "name": "ipython",
    "version": 3
   },
   "file_extension": ".py",
   "mimetype": "text/x-python",
   "name": "python",
   "nbconvert_exporter": "python",
   "pygments_lexer": "ipython3",
   "version": "3.8.3"
  }
 },
 "nbformat": 4,
 "nbformat_minor": 4
}
